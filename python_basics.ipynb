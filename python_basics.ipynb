{
 "cells": [
  {
   "cell_type": "markdown",
   "metadata": {},
   "source": [
    "**Задание 1**. Даны 2 строки: *long_phrase* и *short_phrase*. \n",
    "Напишите код, который проверяет действительно ли длинная фраза *long_phrase* длиннее короткой *short_phrase*. И выводит *True* или *False* в зависимости от результата сравнения."
   ]
  },
  {
   "cell_type": "code",
   "execution_count": 2,
   "metadata": {},
   "outputs": [
    {
     "data": {
      "text/plain": [
       "False"
      ]
     },
     "execution_count": 2,
     "metadata": {},
     "output_type": "execute_result"
    }
   ],
   "source": [
    "long_phrase = 'Насколько проще было бы писать программы, если бы не заказчики'\n",
    "short_phrase = '640Кб должно хватить для любых задач. Билл Гейтс (по легенде)'\n",
    "len('long_phrase') > len('short_phrase')"
   ]
  },
  {
   "cell_type": "code",
   "execution_count": 1,
   "metadata": {},
   "outputs": [
    {
     "data": {
      "text/plain": [
       "True"
      ]
     },
     "execution_count": 1,
     "metadata": {},
     "output_type": "execute_result"
    }
   ],
   "source": [
    " len('long_phrase') < len('short_phrase')"
   ]
  },
  {
   "cell_type": "markdown",
   "metadata": {},
   "source": [
    "**Задание 2**. Дано значение объема файла в байтах (*в мегабайте 2^20 байт*). Напишите перевод этого значения в мегабайты в формате: \"*Объем файла равен 213.68Mb*\"."
   ]
  },
  {
   "cell_type": "code",
   "execution_count": 67,
   "metadata": {},
   "outputs": [
    {
     "name": "stdout",
     "output_type": "stream",
     "text": [
      "Ввести размер файла в байтах:2222222\n",
      "\"Объем файла равен 2.1192760467529297 Mb\"\n"
     ]
    }
   ],
   "source": [
    "size_file = int(input('Ввести размер файла в байтах:'))\n",
    "print ('\"Объем файла равен', size_file / (2**20), 'Mb\"')\n"
   ]
  },
  {
   "cell_type": "markdown",
   "metadata": {},
   "source": [
    "**Задание 3**. Разработать приложение для определения знака зодиака по дате рождения. Пример:\n",
    "\n",
    "Введите месяц: март\n",
    "\n",
    "Введите число: 6\n",
    "\n",
    "Вывод:\n",
    "Рыбы"
   ]
  },
  {
   "cell_type": "code",
   "execution_count": 6,
   "metadata": {
    "scrolled": false
   },
   "outputs": [
    {
     "name": "stdout",
     "output_type": "stream",
     "text": [
      "Введите месяц:январь\n",
      "Введите число:5\n",
      "Козерог\n"
     ]
    }
   ],
   "source": [
    "month = input('Введите месяц:')\n",
    "day = int(input('Введите число:'))\n",
    "\n",
    "if month == 'март' and 31 >= day >= 21 or month == 'апрель' and 20 >= day >= 1:\n",
    "    print('Рыбы')\n",
    "\n",
    "if month == 'апрель' and 30 >= day >= 21 or month == 'май' and 20 >= day >= 1:\n",
    "    print('Телец')\n",
    "\n",
    "if month == 'май' and 31 >= day >= 22 or month == 'июнь' and 21 >= day >= 1:\n",
    "    print('Близнецы')\n",
    "\n",
    "if month == 'июнь' and 30 >= day >= 22 or month == 'июль' and 22 >= day >= 1:\n",
    "    print('Рак')\n",
    "    \n",
    "if month == 'июль' and 31 >= day >= 23 or month == 'август' and 23 >= day >= 1:\n",
    "    print('Лев')\n",
    "    \n",
    "if month == 'август' and 31 >= day >= 24 or month == 'сентябрь' and 23 >= day >= 1:\n",
    "    print('Дева')\n",
    "    \n",
    "if month == 'сентябрь' and 30 >= day >= 24 or month == 'октябрь' and 23 >= day >= 1:\n",
    "    print('Весы')\n",
    "    \n",
    "if month == 'октябрь' and 31 >= day >= 24 or month == 'ноябрь' and 22 >= day >= 1:\n",
    "    print('Скорпион')\n",
    "    \n",
    "if month == 'ноябрь' and 30 >= day >= 23 or month == 'декабрь' and 21 >= day >= 1:\n",
    "    print('Стрелец')\n",
    "\n",
    "if month == 'декабрь' and 31 >= day >= 22 or month == 'январь' and 20 >= day >= 1:\n",
    "    print('Козерог')\n",
    "    \n",
    "if month == 'январь' and 31 >= day >= 21 or month == 'февраль' and 18 >= day >= 1:\n",
    "    print('Водолей')\n",
    "    \n",
    "if month == 'февраль' and 28 >= day >= 19 or month == 'март' and 20 >= day >= 1:\n",
    "    print('Водолей')\n"
   ]
  },
  {
   "cell_type": "markdown",
   "metadata": {},
   "source": [
    "**Задание 4**. Нужно разработать приложение для финансового планирования.\n",
    "Приложение учитывает сколько уходит на ипотеку, \"на жизнь\" и сколько нужно отложить на пенсию.\n",
    "Пользователь вводит:\n",
    "- заработанную плату в месяц.\n",
    "- сколько процентов от ЗП уходит на ипотеку.\n",
    "- сколько процентов от ЗП уходит \"на жизнь\".\n",
    "- сколько раз приходит премия в год.\n",
    "\n",
    "Остальная часть заработанной платы откладывается на пенсию.\n",
    "\n",
    "Также пользователю приходит премия в размере зарплаты, от которой половина уходит на отпуск, а вторая половина откладывается.\n",
    "\n",
    "Программа должна учитывать сколько премий было в год.\n",
    "\n",
    "Нужно вывести сколько денег тратит пользователь на ипотеку и сколько он накопит за год.\n",
    "\n",
    "Пример:\n",
    "\n",
    "Введите заработанную плату в месяц: 100000\n",
    "\n",
    "Введите сколько процентов уходит на ипотеку: 30\n",
    "\n",
    "Введите сколько процентов уходит на жизнь: 50\n",
    "\n",
    "Введите количество премий за год: 2\n",
    "\n",
    "Вывод:\n",
    "На ипотеку было потрачено: 360000 рублей\n",
    "Было накоплено: 340000 рублей"
   ]
  },
  {
   "cell_type": "code",
   "execution_count": 62,
   "metadata": {},
   "outputs": [
    {
     "name": "stdout",
     "output_type": "stream",
     "text": [
      "Введите заработную плату в месяц:100000\n",
      "Введите сколько процентов уходит на ипотеку:30\n",
      "Введите сколько процентов уходит на жизнь:50\n",
      "Введите количество премий за год:2\n",
      "На ипотеку было потрачено: 360000 рублей Было накоплено: 340000.0 рублей\n"
     ]
    }
   ],
   "source": [
    "salary = int(input('Введите заработную плату в месяц:'))\n",
    "ipoteka = int(input('Введите сколько процентов уходит на ипотеку:'))\n",
    "life_exp = int(input('Введите сколько процентов уходит на жизнь:'))\n",
    "premiya = int(input('Введите количество премий за год:'))\n",
    "print ('На ипотеку было потрачено:', (salary * ipoteka // 100 * 12), 'рублей', 'Было накоплено:', (salary * (12 + premiya)) - (salary * ipoteka // 100 * 12) - (salary * life_exp // 100 * 12) - (salary * premiya * 0.5), 'рублей') \n",
    "\n"
   ]
  },
  {
   "cell_type": "code",
   "execution_count": null,
   "metadata": {},
   "outputs": [],
   "source": []
  }
 ],
 "metadata": {
  "kernelspec": {
   "display_name": "Python 3",
   "language": "python",
   "name": "python3"
  },
  "language_info": {
   "codemirror_mode": {
    "name": "ipython",
    "version": 3
   },
   "file_extension": ".py",
   "mimetype": "text/x-python",
   "name": "python",
   "nbconvert_exporter": "python",
   "pygments_lexer": "ipython3",
   "version": "3.7.6"
  }
 },
 "nbformat": 4,
 "nbformat_minor": 2
}
